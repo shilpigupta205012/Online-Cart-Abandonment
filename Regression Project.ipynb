{
 "cells": [
  {
   "cell_type": "markdown",
   "metadata": {},
   "source": [
    "## IMPORT LIBRARY"
   ]
  },
  {
   "cell_type": "code",
   "execution_count": 2,
   "metadata": {},
   "outputs": [],
   "source": [
    "#Import Libraries\n",
    "import pickle as pkl\n",
    "import pandas as pd\n",
    "import numpy as np\n",
    "import seaborn as sns\n",
    "from imblearn.over_sampling import SMOTE\n",
    "from sklearn.model_selection import train_test_split\n",
    "from sklearn.preprocessing import StandardScaler\n",
    "from sklearn.impute import SimpleImputer\n",
    "from sklearn.metrics import confusion_matrix,accuracy_score,cohen_kappa_score\n",
    "from sklearn.ensemble import RandomForestClassifier\n",
    "from sklearn.preprocessing import MinMaxScaler\n",
    "from scipy.special import boxcox1p\n",
    "from sklearn.feature_selection import RFE\n",
    "from sklearn.linear_model import LogisticRegression\n",
    "import matplotlib.pyplot as plt\n",
    "import os\n",
    "import pandas as pd"
   ]
  },
  {
   "cell_type": "markdown",
   "metadata": {},
   "source": [
    "## IMPORTING DATASET"
   ]
  },
  {
   "cell_type": "code",
   "execution_count": 3,
   "metadata": {},
   "outputs": [],
   "source": [
    "os.chdir('C:/Users/shilp/Desktop/Nmims/Project/Sem2/REGRESSION/Cart_Abandonment-master')\n",
    "dataset = pd.read_csv('data_cart_abandonment.csv')\n"
   ]
  },
  {
   "cell_type": "code",
   "execution_count": 4,
   "metadata": {},
   "outputs": [
    {
     "data": {
      "text/html": [
       "<div>\n",
       "<style scoped>\n",
       "    .dataframe tbody tr th:only-of-type {\n",
       "        vertical-align: middle;\n",
       "    }\n",
       "\n",
       "    .dataframe tbody tr th {\n",
       "        vertical-align: top;\n",
       "    }\n",
       "\n",
       "    .dataframe thead th {\n",
       "        text-align: right;\n",
       "    }\n",
       "</style>\n",
       "<table border=\"1\" class=\"dataframe\">\n",
       "  <thead>\n",
       "    <tr style=\"text-align: right;\">\n",
       "      <th></th>\n",
       "      <th>ID</th>\n",
       "      <th>Is_Product_Details_viewed</th>\n",
       "      <th>Session_Activity_Count</th>\n",
       "      <th>No_Items_Added_InCart</th>\n",
       "      <th>No_Items_Removed_FromCart</th>\n",
       "      <th>No_Cart_Viewed</th>\n",
       "      <th>No_Checkout_Confirmed</th>\n",
       "      <th>No_Checkout_Initiated</th>\n",
       "      <th>No_Cart_Items_Viewed</th>\n",
       "      <th>No_Customer_Login</th>\n",
       "      <th>No_Page_Viewed</th>\n",
       "      <th>Customer_Segment_Type</th>\n",
       "      <th>Cart_Abandoned</th>\n",
       "    </tr>\n",
       "  </thead>\n",
       "  <tbody>\n",
       "    <tr>\n",
       "      <th>0</th>\n",
       "      <td>Session_ID_0</td>\n",
       "      <td>Yes</td>\n",
       "      <td>4</td>\n",
       "      <td>1.0</td>\n",
       "      <td>0</td>\n",
       "      <td>0.0</td>\n",
       "      <td>0</td>\n",
       "      <td>0</td>\n",
       "      <td>1</td>\n",
       "      <td>0</td>\n",
       "      <td>0</td>\n",
       "      <td>0</td>\n",
       "      <td>1</td>\n",
       "    </tr>\n",
       "    <tr>\n",
       "      <th>1</th>\n",
       "      <td>Session_ID_1</td>\n",
       "      <td>No</td>\n",
       "      <td>38</td>\n",
       "      <td>0.0</td>\n",
       "      <td>0</td>\n",
       "      <td>2.0</td>\n",
       "      <td>0</td>\n",
       "      <td>0</td>\n",
       "      <td>2</td>\n",
       "      <td>0</td>\n",
       "      <td>2</td>\n",
       "      <td>0</td>\n",
       "      <td>1</td>\n",
       "    </tr>\n",
       "    <tr>\n",
       "      <th>2</th>\n",
       "      <td>Session_ID_2</td>\n",
       "      <td>No</td>\n",
       "      <td>8</td>\n",
       "      <td>5.0</td>\n",
       "      <td>0</td>\n",
       "      <td>0.0</td>\n",
       "      <td>1</td>\n",
       "      <td>1</td>\n",
       "      <td>1</td>\n",
       "      <td>0</td>\n",
       "      <td>0</td>\n",
       "      <td>1</td>\n",
       "      <td>0</td>\n",
       "    </tr>\n",
       "  </tbody>\n",
       "</table>\n",
       "</div>"
      ],
      "text/plain": [
       "             ID Is_Product_Details_viewed  Session_Activity_Count  \\\n",
       "0  Session_ID_0                       Yes                       4   \n",
       "1  Session_ID_1                        No                      38   \n",
       "2  Session_ID_2                        No                       8   \n",
       "\n",
       "   No_Items_Added_InCart  No_Items_Removed_FromCart  No_Cart_Viewed  \\\n",
       "0                    1.0                          0             0.0   \n",
       "1                    0.0                          0             2.0   \n",
       "2                    5.0                          0             0.0   \n",
       "\n",
       "   No_Checkout_Confirmed  No_Checkout_Initiated   No_Cart_Items_Viewed  \\\n",
       "0                      0                       0                     1   \n",
       "1                      0                       0                     2   \n",
       "2                      1                       1                     1   \n",
       "\n",
       "   No_Customer_Login  No_Page_Viewed  Customer_Segment_Type  Cart_Abandoned  \n",
       "0                  0               0                      0               1  \n",
       "1                  0               2                      0               1  \n",
       "2                  0               0                      1               0  "
      ]
     },
     "execution_count": 4,
     "metadata": {},
     "output_type": "execute_result"
    }
   ],
   "source": [
    "dataset.head(3)"
   ]
  },
  {
   "cell_type": "code",
   "execution_count": 5,
   "metadata": {},
   "outputs": [
    {
     "data": {
      "text/plain": [
       "ID                            object\n",
       "Is_Product_Details_viewed     object\n",
       "Session_Activity_Count         int64\n",
       "No_Items_Added_InCart        float64\n",
       "No_Items_Removed_FromCart      int64\n",
       "No_Cart_Viewed               float64\n",
       "No_Checkout_Confirmed          int64\n",
       "No_Checkout_Initiated          int64\n",
       "No_Cart_Items_Viewed           int64\n",
       "No_Customer_Login              int64\n",
       "No_Page_Viewed                 int64\n",
       "Customer_Segment_Type          int64\n",
       "Cart_Abandoned                 int64\n",
       "dtype: object"
      ]
     },
     "execution_count": 5,
     "metadata": {},
     "output_type": "execute_result"
    }
   ],
   "source": [
    "dataset.dtypes"
   ]
  },
  {
   "cell_type": "code",
   "execution_count": 7,
   "metadata": {},
   "outputs": [
    {
     "data": {
      "text/plain": [
       "(4284, 13)"
      ]
     },
     "execution_count": 7,
     "metadata": {},
     "output_type": "execute_result"
    }
   ],
   "source": [
    "dataset.shape"
   ]
  },
  {
   "cell_type": "code",
   "execution_count": 8,
   "metadata": {},
   "outputs": [
    {
     "data": {
      "text/html": [
       "<div>\n",
       "<style scoped>\n",
       "    .dataframe tbody tr th:only-of-type {\n",
       "        vertical-align: middle;\n",
       "    }\n",
       "\n",
       "    .dataframe tbody tr th {\n",
       "        vertical-align: top;\n",
       "    }\n",
       "\n",
       "    .dataframe thead th {\n",
       "        text-align: right;\n",
       "    }\n",
       "</style>\n",
       "<table border=\"1\" class=\"dataframe\">\n",
       "  <thead>\n",
       "    <tr style=\"text-align: right;\">\n",
       "      <th></th>\n",
       "      <th>Session_Activity_Count</th>\n",
       "      <th>No_Items_Added_InCart</th>\n",
       "      <th>No_Items_Removed_FromCart</th>\n",
       "      <th>No_Cart_Viewed</th>\n",
       "      <th>No_Checkout_Confirmed</th>\n",
       "      <th>No_Checkout_Initiated</th>\n",
       "      <th>No_Cart_Items_Viewed</th>\n",
       "      <th>No_Customer_Login</th>\n",
       "      <th>No_Page_Viewed</th>\n",
       "      <th>Customer_Segment_Type</th>\n",
       "      <th>Cart_Abandoned</th>\n",
       "    </tr>\n",
       "  </thead>\n",
       "  <tbody>\n",
       "    <tr>\n",
       "      <th>count</th>\n",
       "      <td>4284.000000</td>\n",
       "      <td>4275.000000</td>\n",
       "      <td>4284.000000</td>\n",
       "      <td>4275.000000</td>\n",
       "      <td>4284.000000</td>\n",
       "      <td>4284.000000</td>\n",
       "      <td>4284.000000</td>\n",
       "      <td>4284.000000</td>\n",
       "      <td>4284.000000</td>\n",
       "      <td>4284.000000</td>\n",
       "      <td>4284.000000</td>\n",
       "    </tr>\n",
       "    <tr>\n",
       "      <th>mean</th>\n",
       "      <td>13.878151</td>\n",
       "      <td>3.488421</td>\n",
       "      <td>0.867180</td>\n",
       "      <td>1.444211</td>\n",
       "      <td>0.187208</td>\n",
       "      <td>0.980159</td>\n",
       "      <td>2.295985</td>\n",
       "      <td>0.169234</td>\n",
       "      <td>2.348506</td>\n",
       "      <td>0.563259</td>\n",
       "      <td>0.856209</td>\n",
       "    </tr>\n",
       "    <tr>\n",
       "      <th>std</th>\n",
       "      <td>15.934084</td>\n",
       "      <td>6.789401</td>\n",
       "      <td>3.070022</td>\n",
       "      <td>2.082496</td>\n",
       "      <td>0.517691</td>\n",
       "      <td>1.140525</td>\n",
       "      <td>6.052666</td>\n",
       "      <td>0.400299</td>\n",
       "      <td>2.868862</td>\n",
       "      <td>0.703856</td>\n",
       "      <td>0.350918</td>\n",
       "    </tr>\n",
       "    <tr>\n",
       "      <th>min</th>\n",
       "      <td>0.000000</td>\n",
       "      <td>0.000000</td>\n",
       "      <td>0.000000</td>\n",
       "      <td>0.000000</td>\n",
       "      <td>0.000000</td>\n",
       "      <td>0.000000</td>\n",
       "      <td>0.000000</td>\n",
       "      <td>0.000000</td>\n",
       "      <td>0.000000</td>\n",
       "      <td>0.000000</td>\n",
       "      <td>0.000000</td>\n",
       "    </tr>\n",
       "    <tr>\n",
       "      <th>25%</th>\n",
       "      <td>6.000000</td>\n",
       "      <td>1.000000</td>\n",
       "      <td>0.000000</td>\n",
       "      <td>0.000000</td>\n",
       "      <td>0.000000</td>\n",
       "      <td>0.000000</td>\n",
       "      <td>1.000000</td>\n",
       "      <td>0.000000</td>\n",
       "      <td>1.000000</td>\n",
       "      <td>0.000000</td>\n",
       "      <td>1.000000</td>\n",
       "    </tr>\n",
       "    <tr>\n",
       "      <th>50%</th>\n",
       "      <td>10.000000</td>\n",
       "      <td>2.000000</td>\n",
       "      <td>0.000000</td>\n",
       "      <td>1.000000</td>\n",
       "      <td>0.000000</td>\n",
       "      <td>1.000000</td>\n",
       "      <td>1.000000</td>\n",
       "      <td>0.000000</td>\n",
       "      <td>2.000000</td>\n",
       "      <td>0.000000</td>\n",
       "      <td>1.000000</td>\n",
       "    </tr>\n",
       "    <tr>\n",
       "      <th>75%</th>\n",
       "      <td>17.000000</td>\n",
       "      <td>5.000000</td>\n",
       "      <td>0.000000</td>\n",
       "      <td>2.000000</td>\n",
       "      <td>0.000000</td>\n",
       "      <td>1.000000</td>\n",
       "      <td>2.000000</td>\n",
       "      <td>0.000000</td>\n",
       "      <td>3.000000</td>\n",
       "      <td>1.000000</td>\n",
       "      <td>1.000000</td>\n",
       "    </tr>\n",
       "    <tr>\n",
       "      <th>max</th>\n",
       "      <td>436.000000</td>\n",
       "      <td>225.000000</td>\n",
       "      <td>50.000000</td>\n",
       "      <td>34.000000</td>\n",
       "      <td>11.000000</td>\n",
       "      <td>14.000000</td>\n",
       "      <td>256.000000</td>\n",
       "      <td>3.000000</td>\n",
       "      <td>35.000000</td>\n",
       "      <td>2.000000</td>\n",
       "      <td>1.000000</td>\n",
       "    </tr>\n",
       "  </tbody>\n",
       "</table>\n",
       "</div>"
      ],
      "text/plain": [
       "       Session_Activity_Count  No_Items_Added_InCart  \\\n",
       "count             4284.000000            4275.000000   \n",
       "mean                13.878151               3.488421   \n",
       "std                 15.934084               6.789401   \n",
       "min                  0.000000               0.000000   \n",
       "25%                  6.000000               1.000000   \n",
       "50%                 10.000000               2.000000   \n",
       "75%                 17.000000               5.000000   \n",
       "max                436.000000             225.000000   \n",
       "\n",
       "       No_Items_Removed_FromCart  No_Cart_Viewed  No_Checkout_Confirmed  \\\n",
       "count                4284.000000     4275.000000            4284.000000   \n",
       "mean                    0.867180        1.444211               0.187208   \n",
       "std                     3.070022        2.082496               0.517691   \n",
       "min                     0.000000        0.000000               0.000000   \n",
       "25%                     0.000000        0.000000               0.000000   \n",
       "50%                     0.000000        1.000000               0.000000   \n",
       "75%                     0.000000        2.000000               0.000000   \n",
       "max                    50.000000       34.000000              11.000000   \n",
       "\n",
       "       No_Checkout_Initiated   No_Cart_Items_Viewed  No_Customer_Login  \\\n",
       "count             4284.000000           4284.000000        4284.000000   \n",
       "mean                 0.980159              2.295985           0.169234   \n",
       "std                  1.140525              6.052666           0.400299   \n",
       "min                  0.000000              0.000000           0.000000   \n",
       "25%                  0.000000              1.000000           0.000000   \n",
       "50%                  1.000000              1.000000           0.000000   \n",
       "75%                  1.000000              2.000000           0.000000   \n",
       "max                 14.000000            256.000000           3.000000   \n",
       "\n",
       "       No_Page_Viewed  Customer_Segment_Type  Cart_Abandoned  \n",
       "count     4284.000000            4284.000000     4284.000000  \n",
       "mean         2.348506               0.563259        0.856209  \n",
       "std          2.868862               0.703856        0.350918  \n",
       "min          0.000000               0.000000        0.000000  \n",
       "25%          1.000000               0.000000        1.000000  \n",
       "50%          2.000000               0.000000        1.000000  \n",
       "75%          3.000000               1.000000        1.000000  \n",
       "max         35.000000               2.000000        1.000000  "
      ]
     },
     "execution_count": 8,
     "metadata": {},
     "output_type": "execute_result"
    }
   ],
   "source": [
    "dataset.describe()"
   ]
  },
  {
   "cell_type": "code",
   "execution_count": null,
   "metadata": {},
   "outputs": [],
   "source": []
  },
  {
   "cell_type": "code",
   "execution_count": 6,
   "metadata": {},
   "outputs": [
    {
     "data": {
      "text/plain": [
       "CategoricalDtype(categories=[0, 1], ordered=False)"
      ]
     },
     "execution_count": 6,
     "metadata": {},
     "output_type": "execute_result"
    }
   ],
   "source": [
    "dataset.Cart_Abandoned=pd.Categorical(dataset.Cart_Abandoned)\n",
    "dataset.Cart_Abandoned.dtypes"
   ]
  },
  {
   "cell_type": "code",
   "execution_count": 7,
   "metadata": {},
   "outputs": [],
   "source": [
    "dataset.Customer_Segment_Type=pd.Categorical(dataset.Customer_Segment_Type)"
   ]
  },
  {
   "cell_type": "code",
   "execution_count": 8,
   "metadata": {},
   "outputs": [
    {
     "data": {
      "text/plain": [
       "ID                             object\n",
       "Is_Product_Details_viewed      object\n",
       "Session_Activity_Count          int64\n",
       "No_Items_Added_InCart         float64\n",
       "No_Items_Removed_FromCart       int64\n",
       "No_Cart_Viewed                float64\n",
       "No_Checkout_Confirmed           int64\n",
       "No_Checkout_Initiated           int64\n",
       "No_Cart_Items_Viewed            int64\n",
       "No_Customer_Login               int64\n",
       "No_Page_Viewed                  int64\n",
       "Customer_Segment_Type        category\n",
       "Cart_Abandoned               category\n",
       "dtype: object"
      ]
     },
     "execution_count": 8,
     "metadata": {},
     "output_type": "execute_result"
    }
   ],
   "source": [
    "dataset.dtypes"
   ]
  },
  {
   "cell_type": "markdown",
   "metadata": {},
   "source": [
    "## EXPLORATORY DATA ANALYSIS"
   ]
  },
  {
   "cell_type": "markdown",
   "metadata": {},
   "source": [
    "#### UNIVARIATE"
   ]
  },
  {
   "cell_type": "code",
   "execution_count": 9,
   "metadata": {},
   "outputs": [
    {
     "data": {
      "text/plain": [
       "<matplotlib.axes._subplots.AxesSubplot at 0x191e8651b08>"
      ]
     },
     "execution_count": 9,
     "metadata": {},
     "output_type": "execute_result"
    },
    {
     "data": {
      "image/png": "[encoded data removed]",
      "text/plain": [
       "<Figure size 432x288 with 1 Axes>"
      ]
     },
     "metadata": {
      "needs_background": "light"
     },
     "output_type": "display_data"
    }
   ],
   "source": [
    "sns.countplot(dataset.Cart_Abandoned)"
   ]
  },
  {
   "cell_type": "code",
   "execution_count": 11,
   "metadata": {},
   "outputs": [],
   "source": [
    "num=dataset.select_dtypes(include=[\"float64\",\"int64\"])\n",
    "cat=dataset.select_dtypes(include=[\"object\",\"category\"]).drop([\"ID\"],axis=1)"
   ]
  },
  {
   "cell_type": "code",
   "execution_count": 12,
   "metadata": {},
   "outputs": [
    {
     "data": {
      "text/plain": [
       "(4284, 9)"
      ]
     },
     "execution_count": 12,
     "metadata": {},
     "output_type": "execute_result"
    }
   ],
   "source": [
    "num.shape"
   ]
  },
  {
   "cell_type": "code",
   "execution_count": 13,
   "metadata": {},
   "outputs": [
    {
     "data": {
      "image/png": "[encoded data removed]",
      "text/plain": [
       "<Figure size 1440x432 with 10 Axes>"
      ]
     },
     "metadata": {
      "needs_background": "light"
     },
     "output_type": "display_data"
    }
   ],
   "source": [
    "num.hist(bins=15, figsize=(20, 6), layout=(2, 5));"
   ]
  },
  {
   "cell_type": "code",
   "execution_count": 14,
   "metadata": {},
   "outputs": [
    {
     "data": {
      "image/png": "[encoded data removed]",
      "text/plain": [
       "<Figure size 1440x576 with 3 Axes>"
      ]
     },
     "metadata": {
      "needs_background": "light"
     },
     "output_type": "display_data"
    }
   ],
   "source": [
    "f, ax = plt.subplots(nrows=1,ncols=3,figsize=(20, 8))\n",
    "for i,j in zip(cat.columns.tolist(), ax.flatten()):\n",
    "    sns.countplot(x=cat[i],ax=j)"
   ]
  },
  {
   "cell_type": "markdown",
   "metadata": {},
   "source": [
    "#### BIVARIATE"
   ]
  },
  {
   "cell_type": "markdown",
   "metadata": {},
   "source": [
    "1.FOR CATEGORICAL :Is_Product_Details_viewed Vrs Cart_Abandoned\n",
    "Part 1 : If a customer is viewing the product details then what is the chance that he is doing cart abandonment?"
   ]
  },
  {
   "cell_type": "code",
   "execution_count": 15,
   "metadata": {},
   "outputs": [
    {
     "data": {
      "text/plain": [
       "<matplotlib.axes._subplots.AxesSubplot at 0x191e93aeb08>"
      ]
     },
     "execution_count": 15,
     "metadata": {},
     "output_type": "execute_result"
    },
    {
     "data": {
      "image/png": "[encoded data removed]",
      "text/plain": [
       "<Figure size 432x288 with 1 Axes>"
      ]
     },
     "metadata": {
      "needs_background": "light"
     },
     "output_type": "display_data"
    }
   ],
   "source": [
    "sns.countplot(x=dataset.Is_Product_Details_viewed,hue=dataset.Cart_Abandoned)"
   ]
  },
  {
   "cell_type": "markdown",
   "metadata": {},
   "source": [
    "2.1 FOR NUMERICAL : Numerical Attributes Vrs Cart_Abandoned : By BoxPlot"
   ]
  },
  {
   "cell_type": "code",
   "execution_count": 16,
   "metadata": {},
   "outputs": [
    {
     "data": {
      "image/png": "[encoded data removed]",
      "text/plain": [
       "<Figure size 1440x720 with 10 Axes>"
      ]
     },
     "metadata": {
      "needs_background": "light"
     },
     "output_type": "display_data"
    }
   ],
   "source": [
    "fig, ax = plt.subplots(2, 5, figsize=(20, 10))\n",
    "for var, subplot in zip(num.columns.tolist(), ax.flatten()):\n",
    "    sns.boxplot(x=cat[\"Cart_Abandoned\"], y=num[var], ax=subplot)"
   ]
  },
  {
   "cell_type": "markdown",
   "metadata": {},
   "source": [
    "2.2 Correlation plot of Independent attributes\n"
   ]
  },
  {
   "cell_type": "code",
   "execution_count": 17,
   "metadata": {},
   "outputs": [
    {
     "data": {
      "text/plain": [
       "<matplotlib.axes._subplots.AxesSubplot at 0x191e91a02c8>"
      ]
     },
     "execution_count": 17,
     "metadata": {},
     "output_type": "execute_result"
    },
    {
     "data": {
      "image/png": "[encoded data removed]",
      "text/plain": [
       "<Figure size 432x288 with 2 Axes>"
      ]
     },
     "metadata": {
      "needs_background": "light"
     },
     "output_type": "display_data"
    }
   ],
   "source": [
    "corr = num.corr()\n",
    "sns.heatmap(corr)"
   ]
  },
  {
   "cell_type": "markdown",
   "metadata": {},
   "source": [
    "## DATA PREPARATION"
   ]
  },
  {
   "cell_type": "markdown",
   "metadata": {},
   "source": [
    "imputing missing values wherever needed"
   ]
  },
  {
   "cell_type": "code",
   "execution_count": 63,
   "metadata": {},
   "outputs": [
    {
     "data": {
      "text/plain": [
       "ID                           0\n",
       "Is_Product_Details_viewed    0\n",
       "Session_Activity_Count       0\n",
       "No_Items_Added_InCart        9\n",
       "No_Items_Removed_FromCart    0\n",
       "No_Cart_Viewed               9\n",
       "No_Checkout_Confirmed        0\n",
       "No_Checkout_Initiated        0\n",
       "No_Cart_Items_Viewed         0\n",
       "No_Customer_Login            0\n",
       "No_Page_Viewed               0\n",
       "Customer_Segment_Type        0\n",
       "Cart_Abandoned               0\n",
       "dtype: int64"
      ]
     },
     "execution_count": 63,
     "metadata": {},
     "output_type": "execute_result"
    }
   ],
   "source": [
    "data = dataset.copy()\n",
    "data.isna().sum()"
   ]
  },
  {
   "cell_type": "code",
   "execution_count": 64,
   "metadata": {},
   "outputs": [
    {
     "data": {
      "text/plain": [
       "['No_Items_Added_InCart', 'No_Cart_Viewed']"
      ]
     },
     "execution_count": 64,
     "metadata": {},
     "output_type": "execute_result"
    }
   ],
   "source": [
    "null_col = data.columns[data.isna().any()].tolist()\n",
    "null_col"
   ]
  },
  {
   "cell_type": "code",
   "execution_count": 65,
   "metadata": {},
   "outputs": [],
   "source": [
    "data['No_Cart_Viewed'].mean()\n",
    "data['No_Items_Added_InCart'].mean()\n",
    "\n",
    "data['No_Items_Added_InCart'].fillna(3.48,inplace=True)\n",
    "data['No_Cart_Viewed'].fillna(1.44,inplace=True)\n"
   ]
  },
  {
   "cell_type": "code",
   "execution_count": 66,
   "metadata": {},
   "outputs": [],
   "source": [
    "data[null_col] = data[null_col].astype(\"int64\")"
   ]
  },
  {
   "cell_type": "code",
   "execution_count": 67,
   "metadata": {},
   "outputs": [
    {
     "data": {
      "text/plain": [
       "ID                             object\n",
       "Is_Product_Details_viewed      object\n",
       "Session_Activity_Count          int64\n",
       "No_Items_Added_InCart           int64\n",
       "No_Items_Removed_FromCart       int64\n",
       "No_Cart_Viewed                  int64\n",
       "No_Checkout_Confirmed           int64\n",
       "No_Checkout_Initiated           int64\n",
       "No_Cart_Items_Viewed            int64\n",
       "No_Customer_Login               int64\n",
       "No_Page_Viewed                  int64\n",
       "Customer_Segment_Type        category\n",
       "Cart_Abandoned               category\n",
       "dtype: object"
      ]
     },
     "execution_count": 67,
     "metadata": {},
     "output_type": "execute_result"
    }
   ],
   "source": [
    "data.dtypes"
   ]
  },
  {
   "cell_type": "markdown",
   "metadata": {},
   "source": [
    "1.Taking care of Outliers by Normalizing the Data : By MinMax Normalization"
   ]
  },
  {
   "cell_type": "code",
   "execution_count": 68,
   "metadata": {},
   "outputs": [],
   "source": [
    "num=data.select_dtypes(include=[\"int64\"])\n",
    "cat=data.select_dtypes(include=[\"object\",\"category\"]).drop([\"ID\"],axis=1)"
   ]
  },
  {
   "cell_type": "code",
   "execution_count": 69,
   "metadata": {},
   "outputs": [
    {
     "data": {
      "text/plain": [
       "array([[0.00917431, 0.00444444, 0.        , ..., 0.00390625, 0.        ,\n",
       "        0.        ],\n",
       "       [0.08715596, 0.        , 0.        , ..., 0.0078125 , 0.        ,\n",
       "        0.05714286],\n",
       "       [0.01834862, 0.02222222, 0.        , ..., 0.00390625, 0.        ,\n",
       "        0.        ],\n",
       "       ...,\n",
       "       [0.00917431, 0.00444444, 0.        , ..., 0.00390625, 0.        ,\n",
       "        0.        ],\n",
       "       [0.01834862, 0.01333333, 0.        , ..., 0.00390625, 0.        ,\n",
       "        0.05714286],\n",
       "       [0.07110092, 0.01777778, 0.        , ..., 0.02734375, 0.        ,\n",
       "        0.02857143]])"
      ]
     },
     "execution_count": 69,
     "metadata": {},
     "output_type": "execute_result"
    }
   ],
   "source": [
    "min_max_scaler = MinMaxScaler()\n",
    "x_scaled = min_max_scaler.fit_transform(num)\n",
    "x_scaled"
   ]
  },
  {
   "cell_type": "code",
   "execution_count": 70,
   "metadata": {},
   "outputs": [
    {
     "data": {
      "text/html": [
       "<div>\n",
       "<style scoped>\n",
       "    .dataframe tbody tr th:only-of-type {\n",
       "        vertical-align: middle;\n",
       "    }\n",
       "\n",
       "    .dataframe tbody tr th {\n",
       "        vertical-align: top;\n",
       "    }\n",
       "\n",
       "    .dataframe thead th {\n",
       "        text-align: right;\n",
       "    }\n",
       "</style>\n",
       "<table border=\"1\" class=\"dataframe\">\n",
       "  <thead>\n",
       "    <tr style=\"text-align: right;\">\n",
       "      <th></th>\n",
       "      <th>Session_Activity_Count</th>\n",
       "      <th>No_Items_Added_InCart</th>\n",
       "      <th>No_Items_Removed_FromCart</th>\n",
       "      <th>No_Cart_Viewed</th>\n",
       "      <th>No_Checkout_Confirmed</th>\n",
       "      <th>No_Checkout_Initiated</th>\n",
       "      <th>No_Cart_Items_Viewed</th>\n",
       "      <th>No_Customer_Login</th>\n",
       "      <th>No_Page_Viewed</th>\n",
       "    </tr>\n",
       "  </thead>\n",
       "  <tbody>\n",
       "    <tr>\n",
       "      <th>0</th>\n",
       "      <td>0.009174</td>\n",
       "      <td>0.004444</td>\n",
       "      <td>0.0</td>\n",
       "      <td>0.000000</td>\n",
       "      <td>0.000000</td>\n",
       "      <td>0.000000</td>\n",
       "      <td>0.003906</td>\n",
       "      <td>0.0</td>\n",
       "      <td>0.000000</td>\n",
       "    </tr>\n",
       "    <tr>\n",
       "      <th>1</th>\n",
       "      <td>0.087156</td>\n",
       "      <td>0.000000</td>\n",
       "      <td>0.0</td>\n",
       "      <td>0.058824</td>\n",
       "      <td>0.000000</td>\n",
       "      <td>0.000000</td>\n",
       "      <td>0.007812</td>\n",
       "      <td>0.0</td>\n",
       "      <td>0.057143</td>\n",
       "    </tr>\n",
       "    <tr>\n",
       "      <th>2</th>\n",
       "      <td>0.018349</td>\n",
       "      <td>0.022222</td>\n",
       "      <td>0.0</td>\n",
       "      <td>0.000000</td>\n",
       "      <td>0.090909</td>\n",
       "      <td>0.071429</td>\n",
       "      <td>0.003906</td>\n",
       "      <td>0.0</td>\n",
       "      <td>0.000000</td>\n",
       "    </tr>\n",
       "  </tbody>\n",
       "</table>\n",
       "</div>"
      ],
      "text/plain": [
       "   Session_Activity_Count  No_Items_Added_InCart  No_Items_Removed_FromCart  \\\n",
       "0                0.009174               0.004444                        0.0   \n",
       "1                0.087156               0.000000                        0.0   \n",
       "2                0.018349               0.022222                        0.0   \n",
       "\n",
       "   No_Cart_Viewed  No_Checkout_Confirmed  No_Checkout_Initiated   \\\n",
       "0        0.000000               0.000000                0.000000   \n",
       "1        0.058824               0.000000                0.000000   \n",
       "2        0.000000               0.090909                0.071429   \n",
       "\n",
       "   No_Cart_Items_Viewed  No_Customer_Login  No_Page_Viewed  \n",
       "0              0.003906                0.0        0.000000  \n",
       "1              0.007812                0.0        0.057143  \n",
       "2              0.003906                0.0        0.000000  "
      ]
     },
     "execution_count": 70,
     "metadata": {},
     "output_type": "execute_result"
    }
   ],
   "source": [
    "df_scaled = pd.DataFrame(x_scaled,columns=num.columns)\n",
    "df_scaled.head(3)"
   ]
  },
  {
   "cell_type": "code",
   "execution_count": 71,
   "metadata": {},
   "outputs": [
    {
     "data": {
      "text/plain": [
       "Session_Activity_Count       float64\n",
       "No_Items_Added_InCart        float64\n",
       "No_Items_Removed_FromCart    float64\n",
       "No_Cart_Viewed               float64\n",
       "No_Checkout_Confirmed        float64\n",
       "No_Checkout_Initiated        float64\n",
       "No_Cart_Items_Viewed         float64\n",
       "No_Customer_Login            float64\n",
       "No_Page_Viewed               float64\n",
       "dtype: object"
      ]
     },
     "execution_count": 71,
     "metadata": {},
     "output_type": "execute_result"
    }
   ],
   "source": [
    "df_scaled.dtypes"
   ]
  },
  {
   "cell_type": "code",
   "execution_count": 72,
   "metadata": {},
   "outputs": [
    {
     "data": {
      "image/png": "[encoded data removed]",
      "text/plain": [
       "<Figure size 1440x432 with 10 Axes>"
      ]
     },
     "metadata": {
      "needs_background": "light"
     },
     "output_type": "display_data"
    }
   ],
   "source": [
    "df_scaled.hist(bins=15, figsize=(20, 6), layout=(2, 5));\n"
   ]
  },
  {
   "cell_type": "code",
   "execution_count": 73,
   "metadata": {},
   "outputs": [
    {
     "data": {
      "image/png": "[encoded data removed]",
      "text/plain": [
       "<Figure size 1440x720 with 10 Axes>"
      ]
     },
     "metadata": {
      "needs_background": "light"
     },
     "output_type": "display_data"
    }
   ],
   "source": [
    "fig, ax = plt.subplots(2, 5, figsize=(20, 10))\n",
    "for var, subplot in zip(df_scaled.columns.tolist(), ax.flatten()):\n",
    "    sns.boxplot(y=df_scaled[var], ax=subplot)"
   ]
  },
  {
   "cell_type": "markdown",
   "metadata": {},
   "source": [
    "2.Taking care of Outliers by Normalizing the Data : By BoxCox Normalization"
   ]
  },
  {
   "cell_type": "code",
   "execution_count": 74,
   "metadata": {},
   "outputs": [],
   "source": [
    "df_scaled_boxcox=boxcox1p(num, 0)"
   ]
  },
  {
   "cell_type": "code",
   "execution_count": 75,
   "metadata": {},
   "outputs": [
    {
     "data": {
      "image/png": "[encoded data removed]",
      "text/plain": [
       "<Figure size 1440x720 with 10 Axes>"
      ]
     },
     "metadata": {
      "needs_background": "light"
     },
     "output_type": "display_data"
    }
   ],
   "source": [
    "fig, ax = plt.subplots(2, 5, figsize=(20, 10))\n",
    "for var, subplot in zip(df_scaled_boxcox.columns.tolist(), ax.flatten()):\n",
    "    sns.boxplot(y=df_scaled_boxcox[var], ax=subplot)"
   ]
  },
  {
   "cell_type": "code",
   "execution_count": 76,
   "metadata": {},
   "outputs": [
    {
     "data": {
      "image/png": "[encoded data removed]",
      "text/plain": [
       "<Figure size 1440x432 with 10 Axes>"
      ]
     },
     "metadata": {
      "needs_background": "light"
     },
     "output_type": "display_data"
    }
   ],
   "source": [
    "df_scaled_boxcox.hist(bins=15, figsize=(20, 6), layout=(2, 5));"
   ]
  },
  {
   "cell_type": "code",
   "execution_count": 77,
   "metadata": {},
   "outputs": [
    {
     "data": {
      "text/html": [
       "<div>\n",
       "<style scoped>\n",
       "    .dataframe tbody tr th:only-of-type {\n",
       "        vertical-align: middle;\n",
       "    }\n",
       "\n",
       "    .dataframe tbody tr th {\n",
       "        vertical-align: top;\n",
       "    }\n",
       "\n",
       "    .dataframe thead th {\n",
       "        text-align: right;\n",
       "    }\n",
       "</style>\n",
       "<table border=\"1\" class=\"dataframe\">\n",
       "  <thead>\n",
       "    <tr style=\"text-align: right;\">\n",
       "      <th></th>\n",
       "      <th>Session_Activity_Count</th>\n",
       "      <th>No_Items_Added_InCart</th>\n",
       "      <th>No_Items_Removed_FromCart</th>\n",
       "      <th>No_Cart_Viewed</th>\n",
       "      <th>No_Checkout_Confirmed</th>\n",
       "      <th>No_Checkout_Initiated</th>\n",
       "      <th>No_Cart_Items_Viewed</th>\n",
       "      <th>No_Customer_Login</th>\n",
       "      <th>No_Page_Viewed</th>\n",
       "    </tr>\n",
       "  </thead>\n",
       "  <tbody>\n",
       "    <tr>\n",
       "      <th>0</th>\n",
       "      <td>1.609438</td>\n",
       "      <td>0.693147</td>\n",
       "      <td>0.0</td>\n",
       "      <td>0.000000</td>\n",
       "      <td>0.000000</td>\n",
       "      <td>0.000000</td>\n",
       "      <td>0.693147</td>\n",
       "      <td>0.0</td>\n",
       "      <td>0.000000</td>\n",
       "    </tr>\n",
       "    <tr>\n",
       "      <th>1</th>\n",
       "      <td>3.663562</td>\n",
       "      <td>0.000000</td>\n",
       "      <td>0.0</td>\n",
       "      <td>1.098612</td>\n",
       "      <td>0.000000</td>\n",
       "      <td>0.000000</td>\n",
       "      <td>1.098612</td>\n",
       "      <td>0.0</td>\n",
       "      <td>1.098612</td>\n",
       "    </tr>\n",
       "    <tr>\n",
       "      <th>2</th>\n",
       "      <td>2.197225</td>\n",
       "      <td>1.791759</td>\n",
       "      <td>0.0</td>\n",
       "      <td>0.000000</td>\n",
       "      <td>0.693147</td>\n",
       "      <td>0.693147</td>\n",
       "      <td>0.693147</td>\n",
       "      <td>0.0</td>\n",
       "      <td>0.000000</td>\n",
       "    </tr>\n",
       "  </tbody>\n",
       "</table>\n",
       "</div>"
      ],
      "text/plain": [
       "   Session_Activity_Count  No_Items_Added_InCart  No_Items_Removed_FromCart  \\\n",
       "0                1.609438               0.693147                        0.0   \n",
       "1                3.663562               0.000000                        0.0   \n",
       "2                2.197225               1.791759                        0.0   \n",
       "\n",
       "   No_Cart_Viewed  No_Checkout_Confirmed  No_Checkout_Initiated   \\\n",
       "0        0.000000               0.000000                0.000000   \n",
       "1        1.098612               0.000000                0.000000   \n",
       "2        0.000000               0.693147                0.693147   \n",
       "\n",
       "   No_Cart_Items_Viewed  No_Customer_Login  No_Page_Viewed  \n",
       "0              0.693147                0.0        0.000000  \n",
       "1              1.098612                0.0        1.098612  \n",
       "2              0.693147                0.0        0.000000  "
      ]
     },
     "execution_count": 77,
     "metadata": {},
     "output_type": "execute_result"
    }
   ],
   "source": [
    "df_scaled_boxcox.head(3)"
   ]
  },
  {
   "cell_type": "code",
   "execution_count": 78,
   "metadata": {},
   "outputs": [
    {
     "data": {
      "text/plain": [
       "Session_Activity_Count       float64\n",
       "No_Items_Added_InCart        float64\n",
       "No_Items_Removed_FromCart    float64\n",
       "No_Cart_Viewed               float64\n",
       "No_Checkout_Confirmed        float64\n",
       "No_Checkout_Initiated        float64\n",
       "No_Cart_Items_Viewed         float64\n",
       "No_Customer_Login            float64\n",
       "No_Page_Viewed               float64\n",
       "dtype: object"
      ]
     },
     "execution_count": 78,
     "metadata": {},
     "output_type": "execute_result"
    }
   ],
   "source": [
    "df_scaled_boxcox.dtypes\n"
   ]
  },
  {
   "cell_type": "code",
   "execution_count": 79,
   "metadata": {},
   "outputs": [],
   "source": [
    "df_scaled_boxcox[\"ID\"]=data.ID\n",
    "df_scaled_boxcox.set_index('ID',inplace=True)\n",
    "df_scaled_boxcox.reset_index(inplace=True)\n"
   ]
  },
  {
   "cell_type": "code",
   "execution_count": 80,
   "metadata": {},
   "outputs": [
    {
     "data": {
      "text/html": [
       "<div>\n",
       "<style scoped>\n",
       "    .dataframe tbody tr th:only-of-type {\n",
       "        vertical-align: middle;\n",
       "    }\n",
       "\n",
       "    .dataframe tbody tr th {\n",
       "        vertical-align: top;\n",
       "    }\n",
       "\n",
       "    .dataframe thead th {\n",
       "        text-align: right;\n",
       "    }\n",
       "</style>\n",
       "<table border=\"1\" class=\"dataframe\">\n",
       "  <thead>\n",
       "    <tr style=\"text-align: right;\">\n",
       "      <th></th>\n",
       "      <th>ID</th>\n",
       "      <th>Session_Activity_Count</th>\n",
       "      <th>No_Items_Added_InCart</th>\n",
       "      <th>No_Items_Removed_FromCart</th>\n",
       "      <th>No_Cart_Viewed</th>\n",
       "      <th>No_Checkout_Confirmed</th>\n",
       "      <th>No_Checkout_Initiated</th>\n",
       "      <th>No_Cart_Items_Viewed</th>\n",
       "      <th>No_Customer_Login</th>\n",
       "      <th>No_Page_Viewed</th>\n",
       "      <th>Is_Product_Details_viewed</th>\n",
       "      <th>Customer_Segment_Type</th>\n",
       "      <th>Cart_Abandoned</th>\n",
       "    </tr>\n",
       "  </thead>\n",
       "  <tbody>\n",
       "    <tr>\n",
       "      <th>0</th>\n",
       "      <td>Session_ID_0</td>\n",
       "      <td>1.609438</td>\n",
       "      <td>0.693147</td>\n",
       "      <td>0.0</td>\n",
       "      <td>0.000000</td>\n",
       "      <td>0.000000</td>\n",
       "      <td>0.000000</td>\n",
       "      <td>0.693147</td>\n",
       "      <td>0.0</td>\n",
       "      <td>0.000000</td>\n",
       "      <td>Yes</td>\n",
       "      <td>0</td>\n",
       "      <td>1</td>\n",
       "    </tr>\n",
       "    <tr>\n",
       "      <th>1</th>\n",
       "      <td>Session_ID_1</td>\n",
       "      <td>3.663562</td>\n",
       "      <td>0.000000</td>\n",
       "      <td>0.0</td>\n",
       "      <td>1.098612</td>\n",
       "      <td>0.000000</td>\n",
       "      <td>0.000000</td>\n",
       "      <td>1.098612</td>\n",
       "      <td>0.0</td>\n",
       "      <td>1.098612</td>\n",
       "      <td>No</td>\n",
       "      <td>0</td>\n",
       "      <td>1</td>\n",
       "    </tr>\n",
       "    <tr>\n",
       "      <th>2</th>\n",
       "      <td>Session_ID_2</td>\n",
       "      <td>2.197225</td>\n",
       "      <td>1.791759</td>\n",
       "      <td>0.0</td>\n",
       "      <td>0.000000</td>\n",
       "      <td>0.693147</td>\n",
       "      <td>0.693147</td>\n",
       "      <td>0.693147</td>\n",
       "      <td>0.0</td>\n",
       "      <td>0.000000</td>\n",
       "      <td>No</td>\n",
       "      <td>1</td>\n",
       "      <td>0</td>\n",
       "    </tr>\n",
       "  </tbody>\n",
       "</table>\n",
       "</div>"
      ],
      "text/plain": [
       "             ID  Session_Activity_Count  No_Items_Added_InCart  \\\n",
       "0  Session_ID_0                1.609438               0.693147   \n",
       "1  Session_ID_1                3.663562               0.000000   \n",
       "2  Session_ID_2                2.197225               1.791759   \n",
       "\n",
       "   No_Items_Removed_FromCart  No_Cart_Viewed  No_Checkout_Confirmed  \\\n",
       "0                        0.0        0.000000               0.000000   \n",
       "1                        0.0        1.098612               0.000000   \n",
       "2                        0.0        0.000000               0.693147   \n",
       "\n",
       "   No_Checkout_Initiated   No_Cart_Items_Viewed  No_Customer_Login  \\\n",
       "0                0.000000              0.693147                0.0   \n",
       "1                0.000000              1.098612                0.0   \n",
       "2                0.693147              0.693147                0.0   \n",
       "\n",
       "   No_Page_Viewed Is_Product_Details_viewed Customer_Segment_Type  \\\n",
       "0        0.000000                       Yes                     0   \n",
       "1        1.098612                        No                     0   \n",
       "2        0.000000                        No                     1   \n",
       "\n",
       "  Cart_Abandoned  \n",
       "0              1  \n",
       "1              1  \n",
       "2              0  "
      ]
     },
     "execution_count": 80,
     "metadata": {},
     "output_type": "execute_result"
    }
   ],
   "source": [
    "df_final=df_scaled_boxcox.join(cat)\n",
    "df_final.head(3)\n"
   ]
  },
  {
   "cell_type": "code",
   "execution_count": 81,
   "metadata": {},
   "outputs": [
    {
     "data": {
      "text/html": [
       "<div>\n",
       "<style scoped>\n",
       "    .dataframe tbody tr th:only-of-type {\n",
       "        vertical-align: middle;\n",
       "    }\n",
       "\n",
       "    .dataframe tbody tr th {\n",
       "        vertical-align: top;\n",
       "    }\n",
       "\n",
       "    .dataframe thead th {\n",
       "        text-align: right;\n",
       "    }\n",
       "</style>\n",
       "<table border=\"1\" class=\"dataframe\">\n",
       "  <thead>\n",
       "    <tr style=\"text-align: right;\">\n",
       "      <th></th>\n",
       "      <th>ID</th>\n",
       "      <th>Session_Activity_Count</th>\n",
       "      <th>No_Items_Added_InCart</th>\n",
       "      <th>No_Items_Removed_FromCart</th>\n",
       "      <th>No_Cart_Viewed</th>\n",
       "      <th>No_Checkout_Confirmed</th>\n",
       "      <th>No_Checkout_Initiated</th>\n",
       "      <th>No_Cart_Items_Viewed</th>\n",
       "      <th>No_Customer_Login</th>\n",
       "      <th>No_Page_Viewed</th>\n",
       "      <th>Is_Product_Details_viewed</th>\n",
       "      <th>Customer_Segment_Type</th>\n",
       "      <th>Cart_Abandoned</th>\n",
       "    </tr>\n",
       "  </thead>\n",
       "  <tbody>\n",
       "    <tr>\n",
       "      <th>0</th>\n",
       "      <td>Session_ID_0</td>\n",
       "      <td>1.609438</td>\n",
       "      <td>0.693147</td>\n",
       "      <td>0.0</td>\n",
       "      <td>0.000000</td>\n",
       "      <td>0.000000</td>\n",
       "      <td>0.000000</td>\n",
       "      <td>0.693147</td>\n",
       "      <td>0.0</td>\n",
       "      <td>0.000000</td>\n",
       "      <td>1</td>\n",
       "      <td>0</td>\n",
       "      <td>1</td>\n",
       "    </tr>\n",
       "    <tr>\n",
       "      <th>1</th>\n",
       "      <td>Session_ID_1</td>\n",
       "      <td>3.663562</td>\n",
       "      <td>0.000000</td>\n",
       "      <td>0.0</td>\n",
       "      <td>1.098612</td>\n",
       "      <td>0.000000</td>\n",
       "      <td>0.000000</td>\n",
       "      <td>1.098612</td>\n",
       "      <td>0.0</td>\n",
       "      <td>1.098612</td>\n",
       "      <td>0</td>\n",
       "      <td>0</td>\n",
       "      <td>1</td>\n",
       "    </tr>\n",
       "    <tr>\n",
       "      <th>2</th>\n",
       "      <td>Session_ID_2</td>\n",
       "      <td>2.197225</td>\n",
       "      <td>1.791759</td>\n",
       "      <td>0.0</td>\n",
       "      <td>0.000000</td>\n",
       "      <td>0.693147</td>\n",
       "      <td>0.693147</td>\n",
       "      <td>0.693147</td>\n",
       "      <td>0.0</td>\n",
       "      <td>0.000000</td>\n",
       "      <td>0</td>\n",
       "      <td>1</td>\n",
       "      <td>0</td>\n",
       "    </tr>\n",
       "  </tbody>\n",
       "</table>\n",
       "</div>"
      ],
      "text/plain": [
       "             ID  Session_Activity_Count  No_Items_Added_InCart  \\\n",
       "0  Session_ID_0                1.609438               0.693147   \n",
       "1  Session_ID_1                3.663562               0.000000   \n",
       "2  Session_ID_2                2.197225               1.791759   \n",
       "\n",
       "   No_Items_Removed_FromCart  No_Cart_Viewed  No_Checkout_Confirmed  \\\n",
       "0                        0.0        0.000000               0.000000   \n",
       "1                        0.0        1.098612               0.000000   \n",
       "2                        0.0        0.000000               0.693147   \n",
       "\n",
       "   No_Checkout_Initiated   No_Cart_Items_Viewed  No_Customer_Login  \\\n",
       "0                0.000000              0.693147                0.0   \n",
       "1                0.000000              1.098612                0.0   \n",
       "2                0.693147              0.693147                0.0   \n",
       "\n",
       "   No_Page_Viewed  Is_Product_Details_viewed Customer_Segment_Type  \\\n",
       "0        0.000000                          1                     0   \n",
       "1        1.098612                          0                     0   \n",
       "2        0.000000                          0                     1   \n",
       "\n",
       "  Cart_Abandoned  \n",
       "0              1  \n",
       "1              1  \n",
       "2              0  "
      ]
     },
     "execution_count": 81,
     "metadata": {},
     "output_type": "execute_result"
    }
   ],
   "source": [
    "df_final.Is_Product_Details_viewed.replace({\"Yes\":1,\"No\":0},inplace=True)\n",
    "df_final.head(3)"
   ]
  },
  {
   "cell_type": "code",
   "execution_count": 82,
   "metadata": {},
   "outputs": [
    {
     "data": {
      "text/plain": [
       "ID                             object\n",
       "Session_Activity_Count        float64\n",
       "No_Items_Added_InCart         float64\n",
       "No_Items_Removed_FromCart     float64\n",
       "No_Cart_Viewed                float64\n",
       "No_Checkout_Confirmed         float64\n",
       "No_Checkout_Initiated         float64\n",
       "No_Cart_Items_Viewed          float64\n",
       "No_Customer_Login             float64\n",
       "No_Page_Viewed                float64\n",
       "Is_Product_Details_viewed       int64\n",
       "Customer_Segment_Type        category\n",
       "Cart_Abandoned               category\n",
       "dtype: object"
      ]
     },
     "execution_count": 82,
     "metadata": {},
     "output_type": "execute_result"
    }
   ],
   "source": [
    "df_final.dtypes"
   ]
  },
  {
   "cell_type": "code",
   "execution_count": 83,
   "metadata": {},
   "outputs": [],
   "source": [
    "df_final.Is_Product_Details_viewed=pd.Categorical(df_final.Is_Product_Details_viewed)"
   ]
  },
  {
   "cell_type": "markdown",
   "metadata": {},
   "source": [
    "## FEATURE SELECTION"
   ]
  },
  {
   "cell_type": "markdown",
   "metadata": {},
   "source": [
    "1. By RFE\n"
   ]
  },
  {
   "cell_type": "code",
   "execution_count": 84,
   "metadata": {},
   "outputs": [
    {
     "data": {
      "text/plain": [
       "(4284, 11)"
      ]
     },
     "execution_count": 84,
     "metadata": {},
     "output_type": "execute_result"
    }
   ],
   "source": [
    "X=df_final.iloc[:,1:12]\n",
    "X.shape\n"
   ]
  },
  {
   "cell_type": "code",
   "execution_count": 85,
   "metadata": {},
   "outputs": [
    {
     "data": {
      "text/plain": [
       "'Cart_Abandoned'"
      ]
     },
     "execution_count": 85,
     "metadata": {},
     "output_type": "execute_result"
    }
   ],
   "source": [
    "y=df_final[\"Cart_Abandoned\"]\n",
    "y.name"
   ]
  },
  {
   "cell_type": "code",
   "execution_count": 86,
   "metadata": {},
   "outputs": [
    {
     "data": {
      "text/plain": [
       "LogisticRegression()"
      ]
     },
     "execution_count": 86,
     "metadata": {},
     "output_type": "execute_result"
    }
   ],
   "source": [
    "lr = LogisticRegression()\n",
    "lr.fit(X,y)"
   ]
  },
  {
   "cell_type": "code",
   "execution_count": 87,
   "metadata": {},
   "outputs": [
    {
     "name": "stdout",
     "output_type": "stream",
     "text": [
      "Fitting estimator with 11 features.\n",
      "Fitting estimator with 10 features.\n",
      "Fitting estimator with 9 features.\n",
      "Fitting estimator with 8 features.\n",
      "Fitting estimator with 7 features.\n",
      "Fitting estimator with 6 features.\n"
     ]
    }
   ],
   "source": [
    "rfe = RFE(lr, n_features_to_select=5, verbose = 3 )\n",
    "fit=rfe.fit(X,y)"
   ]
  },
  {
   "cell_type": "code",
   "execution_count": 88,
   "metadata": {},
   "outputs": [
    {
     "name": "stdout",
     "output_type": "stream",
     "text": [
      "Num Features: 5\n",
      "Selected Features: [False False False False  True  True False  True  True  True False]\n",
      "Feature Ranking: [2 4 6 3 1 1 7 1 1 1 5]\n"
     ]
    }
   ],
   "source": [
    "print(\"Num Features: %d\"% fit.n_features_) \n",
    "print(\"Selected Features: %s\"% fit.support_) \n",
    "print(\"Feature Ranking: %s\"% fit.ranking_)\n"
   ]
  },
  {
   "cell_type": "code",
   "execution_count": 89,
   "metadata": {},
   "outputs": [],
   "source": [
    "l = [i for i,x in enumerate(list(fit.support_)) if x == True]\n"
   ]
  },
  {
   "cell_type": "code",
   "execution_count": 90,
   "metadata": {},
   "outputs": [
    {
     "data": {
      "text/plain": [
       "Index(['Session_Activity_Count', 'No_Items_Added_InCart',\n",
       "       'No_Items_Removed_FromCart', 'No_Cart_Viewed', 'No_Checkout_Confirmed',\n",
       "       'No_Checkout_Initiated ', 'No_Cart_Items_Viewed', 'No_Customer_Login',\n",
       "       'No_Page_Viewed', 'Is_Product_Details_viewed', 'Customer_Segment_Type'],\n",
       "      dtype='object')"
      ]
     },
     "execution_count": 90,
     "metadata": {},
     "output_type": "execute_result"
    }
   ],
   "source": [
    "X.columns"
   ]
  },
  {
   "cell_type": "code",
   "execution_count": 91,
   "metadata": {},
   "outputs": [
    {
     "data": {
      "text/plain": [
       "['No_Checkout_Confirmed',\n",
       " 'No_Checkout_Initiated ',\n",
       " 'No_Customer_Login',\n",
       " 'No_Page_Viewed',\n",
       " 'Is_Product_Details_viewed']"
      ]
     },
     "execution_count": 91,
     "metadata": {},
     "output_type": "execute_result"
    }
   ],
   "source": [
    "feature_selected = [X[X.columns[l[i]]].name for i,x in enumerate(l)]\n",
    "feature_selected"
   ]
  },
  {
   "cell_type": "markdown",
   "metadata": {},
   "source": [
    "Part 2: What are the important factors related to cart abandonment?"
   ]
  },
  {
   "cell_type": "markdown",
   "metadata": {},
   "source": [
    "2.By Random Forest Classifier\n",
    "Create a random forest classifier"
   ]
  },
  {
   "cell_type": "code",
   "execution_count": 92,
   "metadata": {},
   "outputs": [],
   "source": [
    "clf = RandomForestClassifier(n_estimators=10000, random_state=0, n_jobs=-1)"
   ]
  },
  {
   "cell_type": "markdown",
   "metadata": {},
   "source": [
    " Train the classifier"
   ]
  },
  {
   "cell_type": "code",
   "execution_count": 93,
   "metadata": {},
   "outputs": [
    {
     "data": {
      "text/plain": [
       "{'Session_Activity_Count': 0.05052857005529642,\n",
       " 'No_Items_Added_InCart': 0.025547984898027527,\n",
       " 'No_Items_Removed_FromCart': 0.010172300692196705,\n",
       " 'No_Cart_Viewed': 0.017810335296951977,\n",
       " 'No_Checkout_Confirmed': 0.7341868777064404,\n",
       " 'No_Checkout_Initiated ': 0.0441808380652188,\n",
       " 'No_Cart_Items_Viewed': 0.018703955749515146,\n",
       " 'No_Customer_Login': 0.05604221107820115,\n",
       " 'No_Page_Viewed': 0.027120211503535017,\n",
       " 'Is_Product_Details_viewed': 0.009764913736069736,\n",
       " 'Customer_Segment_Type': 0.0059418012185472185}"
      ]
     },
     "execution_count": 93,
     "metadata": {},
     "output_type": "execute_result"
    }
   ],
   "source": [
    "clf.fit(X, y)\n",
    "feature_weightage_dict = dict()\n",
    "# Print the name and gini importance of each feature\n",
    "for feature in zip(X.columns, clf.feature_importances_):\n",
    "    feature_weightage_dict.update({feature[0]:feature[1]})\n",
    "feature_weightage_dict\n"
   ]
  },
  {
   "cell_type": "code",
   "execution_count": 94,
   "metadata": {},
   "outputs": [
    {
     "data": {
      "text/plain": [
       "[('No_Checkout_Confirmed', 0.7341868777064404),\n",
       " ('No_Customer_Login', 0.05604221107820115),\n",
       " ('Session_Activity_Count', 0.05052857005529642),\n",
       " ('No_Checkout_Initiated ', 0.0441808380652188),\n",
       " ('No_Page_Viewed', 0.027120211503535017),\n",
       " ('No_Items_Added_InCart', 0.025547984898027527),\n",
       " ('No_Cart_Items_Viewed', 0.018703955749515146),\n",
       " ('No_Cart_Viewed', 0.017810335296951977),\n",
       " ('No_Items_Removed_FromCart', 0.010172300692196705),\n",
       " ('Is_Product_Details_viewed', 0.009764913736069736),\n",
       " ('Customer_Segment_Type', 0.0059418012185472185)]"
      ]
     },
     "execution_count": 94,
     "metadata": {},
     "output_type": "execute_result"
    }
   ],
   "source": [
    "sorted_feature_weightage_dict = sorted(feature_weightage_dict.items(), key=lambda kv: kv[1], reverse = True)\n",
    "sorted_feature_weightage_dict"
   ]
  },
  {
   "cell_type": "code",
   "execution_count": 95,
   "metadata": {},
   "outputs": [
    {
     "data": {
      "text/plain": [
       "Index(['ID', 'Session_Activity_Count', 'No_Items_Added_InCart',\n",
       "       'No_Items_Removed_FromCart', 'No_Cart_Viewed', 'No_Checkout_Confirmed',\n",
       "       'No_Checkout_Initiated ', 'No_Cart_Items_Viewed', 'No_Customer_Login',\n",
       "       'No_Page_Viewed', 'Is_Product_Details_viewed', 'Customer_Segment_Type',\n",
       "       'Cart_Abandoned'],\n",
       "      dtype='object')"
      ]
     },
     "execution_count": 95,
     "metadata": {},
     "output_type": "execute_result"
    }
   ],
   "source": [
    "df_final.columns"
   ]
  },
  {
   "cell_type": "code",
   "execution_count": 96,
   "metadata": {},
   "outputs": [],
   "source": [
    "X = df_final.iloc[:,[5,6,8,9,2]]\n",
    "y = df_final.loc[:,[\"Cart_Abandoned\"]]\n",
    "X_train, X_test, y_train, y_test = train_test_split(X, y, test_size=0.40, random_state=0)\n"
   ]
  },
  {
   "cell_type": "markdown",
   "metadata": {},
   "source": [
    "## OVER-SAMPLING USING SMOTE"
   ]
  },
  {
   "cell_type": "code",
   "execution_count": 97,
   "metadata": {},
   "outputs": [],
   "source": [
    "sm = SMOTE(random_state=2,k_neighbors=5)\n",
    "X_train, y_train =sm.fit_resample(X_train,y_train)"
   ]
  },
  {
   "cell_type": "markdown",
   "metadata": {},
   "source": [
    "Train-Validation Split after SMOTE"
   ]
  },
  {
   "cell_type": "code",
   "execution_count": 98,
   "metadata": {},
   "outputs": [],
   "source": [
    "X_train_new, X_test_new, y_train_new, y_test_new = train_test_split(X_train, y_train, test_size=0.40, random_state=0)"
   ]
  },
  {
   "cell_type": "markdown",
   "metadata": {},
   "source": [
    "## MODEL BUILDING AND PREDICTION"
   ]
  },
  {
   "cell_type": "code",
   "execution_count": 99,
   "metadata": {},
   "outputs": [
    {
     "name": "stderr",
     "output_type": "stream",
     "text": [
      "C:\\Users\\shilp\\anaconda3\\lib\\site-packages\\sklearn\\utils\\validation.py:63: DataConversionWarning: A column-vector y was passed when a 1d array was expected. Please change the shape of y to (n_samples, ), for example using ravel().\n",
      "  return f(*args, **kwargs)\n"
     ]
    },
    {
     "data": {
      "text/plain": [
       "LogisticRegression()"
      ]
     },
     "execution_count": 99,
     "metadata": {},
     "output_type": "execute_result"
    }
   ],
   "source": [
    "lr1 = LogisticRegression()\n",
    "lr1.fit(X_train_new,y_train_new)"
   ]
  },
  {
   "cell_type": "code",
   "execution_count": 100,
   "metadata": {},
   "outputs": [],
   "source": [
    "y_pred_new = lr1.predict(X_test_new)  #### For SMOTE validation samples\n",
    "y_pred=lr1.predict(X_test)##### For actual validation samples"
   ]
  },
  {
   "cell_type": "markdown",
   "metadata": {},
   "source": [
    "## MODEL EVALUATION"
   ]
  },
  {
   "cell_type": "code",
   "execution_count": 101,
   "metadata": {},
   "outputs": [
    {
     "name": "stdout",
     "output_type": "stream",
     "text": [
      " accuracy is 0.988\n",
      " Kappa is 0.976122\n"
     ]
    }
   ],
   "source": [
    "print(\" accuracy is %2.3f\" % accuracy_score(y_test_new, y_pred_new))\n",
    "print(\" Kappa is %f\" %cohen_kappa_score(y_test_new, y_pred_new))"
   ]
  },
  {
   "cell_type": "code",
   "execution_count": 102,
   "metadata": {},
   "outputs": [
    {
     "name": "stdout",
     "output_type": "stream",
     "text": [
      " accuracy is 0.984\n",
      " Kappa is 0.936154\n"
     ]
    }
   ],
   "source": [
    "print(\" accuracy is %2.3f\" % accuracy_score(y_test, y_pred))\n",
    "print(\" Kappa is %f\" %cohen_kappa_score(y_test, y_pred))"
   ]
  },
  {
   "cell_type": "code",
   "execution_count": 103,
   "metadata": {},
   "outputs": [
    {
     "name": "stdout",
     "output_type": "stream",
     "text": [
      "[[880   1]\n",
      " [ 20 858]]\n",
      "0.9880613985218875\n",
      "              precision    recall  f1-score   support\n",
      "\n",
      "           0       0.98      1.00      0.99       881\n",
      "           1       1.00      0.98      0.99       878\n",
      "\n",
      "    accuracy                           0.99      1759\n",
      "   macro avg       0.99      0.99      0.99      1759\n",
      "weighted avg       0.99      0.99      0.99      1759\n",
      "\n"
     ]
    }
   ],
   "source": [
    "from sklearn.metrics import accuracy_score,confusion_matrix,classification_report\n",
    "print(confusion_matrix( y_test_new ,y_pred_new ))\n",
    "print(accuracy_score( y_test_new ,y_pred_new ))\n",
    "print(classification_report( y_test_new ,y_pred_new ))"
   ]
  },
  {
   "cell_type": "code",
   "execution_count": null,
   "metadata": {},
   "outputs": [],
   "source": []
  },
  {
   "cell_type": "code",
   "execution_count": null,
   "metadata": {},
   "outputs": [],
   "source": []
  }
 ],
 "metadata": {
  "kernelspec": {
   "display_name": "Python 3",
   "language": "python",
   "name": "python3"
  },
  "language_info": {
   "codemirror_mode": {
    "name": "ipython",
    "version": 3
   },
   "file_extension": ".py",
   "mimetype": "text/x-python",
   "name": "python",
   "nbconvert_exporter": "python",
   "pygments_lexer": "ipython3",
   "version": "3.7.6"
  }
 },
 "nbformat": 4,
 "nbformat_minor": 4
}
